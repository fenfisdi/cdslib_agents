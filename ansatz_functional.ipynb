{
 "metadata": {
  "language_info": {
   "codemirror_mode": {
    "name": "ipython",
    "version": 3
   },
   "file_extension": ".py",
   "mimetype": "text/x-python",
   "name": "python",
   "nbconvert_exporter": "python",
   "pygments_lexer": "ipython3",
   "version": "3.7.9-final"
  },
  "orig_nbformat": 2,
  "kernelspec": {
   "name": "python3",
   "display_name": "Python 3",
   "language": "python"
  }
 },
 "nbformat": 4,
 "nbformat_minor": 2,
 "cells": [
  {
   "cell_type": "code",
   "execution_count": 1,
   "metadata": {},
   "outputs": [],
   "source": [
    "import numpy as np\n",
    "import pandas as pd "
   ]
  },
  {
   "cell_type": "code",
   "execution_count": 3,
   "metadata": {},
   "outputs": [
    {
     "output_type": "execute_result",
     "data": {
      "text/plain": [
       "array([0.78652553, 0.87471279, 0.01096233, 0.2327616 , 0.5846746 ,\n",
       "       0.82198737, 0.91297796, 0.96971881, 0.8886262 , 0.79399233])"
      ]
     },
     "metadata": {},
     "execution_count": 3
    }
   ],
   "source": [
    "np.random.rand(10)"
   ]
  },
  {
   "cell_type": "code",
   "execution_count": 4,
   "metadata": {},
   "outputs": [
    {
     "output_type": "execute_result",
     "data": {
      "text/plain": [
       "   Agent         x         y        vx        vy\n",
       "0      1  3.716227  4.213035  0.969173  0.383325\n",
       "1      2  5.814737  6.598253  0.242808  0.487222\n",
       "2      3  3.524038  8.205775  0.878578  0.071021\n",
       "3      4  7.904616  5.240070  0.747417  0.521073\n",
       "4      5  5.390503  3.916132  0.754596  0.695649\n",
       "5      6  9.698537  4.006751  0.572322  0.668760\n",
       "6      7  7.644618  3.502675  0.963656  0.717787\n",
       "7      8  6.910080  1.318147  0.872694  0.524569\n",
       "8      9  4.768711  1.185069  0.153381  0.334200\n",
       "9     10  5.716445  3.652289  0.007762  0.114599"
      ],
      "text/html": "<div>\n<style scoped>\n    .dataframe tbody tr th:only-of-type {\n        vertical-align: middle;\n    }\n\n    .dataframe tbody tr th {\n        vertical-align: top;\n    }\n\n    .dataframe thead th {\n        text-align: right;\n    }\n</style>\n<table border=\"1\" class=\"dataframe\">\n  <thead>\n    <tr style=\"text-align: right;\">\n      <th></th>\n      <th>Agent</th>\n      <th>x</th>\n      <th>y</th>\n      <th>vx</th>\n      <th>vy</th>\n    </tr>\n  </thead>\n  <tbody>\n    <tr>\n      <th>0</th>\n      <td>1</td>\n      <td>3.716227</td>\n      <td>4.213035</td>\n      <td>0.969173</td>\n      <td>0.383325</td>\n    </tr>\n    <tr>\n      <th>1</th>\n      <td>2</td>\n      <td>5.814737</td>\n      <td>6.598253</td>\n      <td>0.242808</td>\n      <td>0.487222</td>\n    </tr>\n    <tr>\n      <th>2</th>\n      <td>3</td>\n      <td>3.524038</td>\n      <td>8.205775</td>\n      <td>0.878578</td>\n      <td>0.071021</td>\n    </tr>\n    <tr>\n      <th>3</th>\n      <td>4</td>\n      <td>7.904616</td>\n      <td>5.240070</td>\n      <td>0.747417</td>\n      <td>0.521073</td>\n    </tr>\n    <tr>\n      <th>4</th>\n      <td>5</td>\n      <td>5.390503</td>\n      <td>3.916132</td>\n      <td>0.754596</td>\n      <td>0.695649</td>\n    </tr>\n    <tr>\n      <th>5</th>\n      <td>6</td>\n      <td>9.698537</td>\n      <td>4.006751</td>\n      <td>0.572322</td>\n      <td>0.668760</td>\n    </tr>\n    <tr>\n      <th>6</th>\n      <td>7</td>\n      <td>7.644618</td>\n      <td>3.502675</td>\n      <td>0.963656</td>\n      <td>0.717787</td>\n    </tr>\n    <tr>\n      <th>7</th>\n      <td>8</td>\n      <td>6.910080</td>\n      <td>1.318147</td>\n      <td>0.872694</td>\n      <td>0.524569</td>\n    </tr>\n    <tr>\n      <th>8</th>\n      <td>9</td>\n      <td>4.768711</td>\n      <td>1.185069</td>\n      <td>0.153381</td>\n      <td>0.334200</td>\n    </tr>\n    <tr>\n      <th>9</th>\n      <td>10</td>\n      <td>5.716445</td>\n      <td>3.652289</td>\n      <td>0.007762</td>\n      <td>0.114599</td>\n    </tr>\n  </tbody>\n</table>\n</div>"
     },
     "metadata": {},
     "execution_count": 4
    }
   ],
   "source": [
    "df = pd.DataFrame({\n",
    "    'Agent': [1,2,3,4,5,6,7,8,9,10],\n",
    "    'x': 10 * np.random.rand(10),\n",
    "    'y': 10 * np.random.rand(10),\n",
    "    'vx': np.random.rand(10),\n",
    "    'vy': np.random.rand(10)\n",
    "    })\n",
    "\n",
    "df"
   ]
  },
  {
   "cell_type": "code",
   "execution_count": 5,
   "metadata": {},
   "outputs": [],
   "source": [
    "def move(df, dt):\n",
    "    aux_df = df.copy()\n",
    "\n",
    "    aux_df['x'] = aux_df.apply(lambda row: row['x'] + row['vx']*dt, axis=1)\n",
    "    aux_df['y'] = aux_df.apply(lambda row: row['y'] + row['vy']*dt, axis=1)\n",
    "\n",
    "    return aux_df"
   ]
  },
  {
   "cell_type": "code",
   "execution_count": 6,
   "metadata": {},
   "outputs": [
    {
     "output_type": "execute_result",
     "data": {
      "text/plain": [
       "   Agent          x         y        vx        vy\n",
       "0      1   4.685399  4.596359  0.969173  0.383325\n",
       "1      2   6.057545  7.085475  0.242808  0.487222\n",
       "2      3   4.402615  8.276796  0.878578  0.071021\n",
       "3      4   8.652033  5.761143  0.747417  0.521073\n",
       "4      5   6.145099  4.611781  0.754596  0.695649\n",
       "5      6  10.270859  4.675511  0.572322  0.668760\n",
       "6      7   8.608274  4.220462  0.963656  0.717787\n",
       "7      8   7.782774  1.842715  0.872694  0.524569\n",
       "8      9   4.922092  1.519269  0.153381  0.334200\n",
       "9     10   5.724207  3.766887  0.007762  0.114599"
      ],
      "text/html": "<div>\n<style scoped>\n    .dataframe tbody tr th:only-of-type {\n        vertical-align: middle;\n    }\n\n    .dataframe tbody tr th {\n        vertical-align: top;\n    }\n\n    .dataframe thead th {\n        text-align: right;\n    }\n</style>\n<table border=\"1\" class=\"dataframe\">\n  <thead>\n    <tr style=\"text-align: right;\">\n      <th></th>\n      <th>Agent</th>\n      <th>x</th>\n      <th>y</th>\n      <th>vx</th>\n      <th>vy</th>\n    </tr>\n  </thead>\n  <tbody>\n    <tr>\n      <th>0</th>\n      <td>1</td>\n      <td>4.685399</td>\n      <td>4.596359</td>\n      <td>0.969173</td>\n      <td>0.383325</td>\n    </tr>\n    <tr>\n      <th>1</th>\n      <td>2</td>\n      <td>6.057545</td>\n      <td>7.085475</td>\n      <td>0.242808</td>\n      <td>0.487222</td>\n    </tr>\n    <tr>\n      <th>2</th>\n      <td>3</td>\n      <td>4.402615</td>\n      <td>8.276796</td>\n      <td>0.878578</td>\n      <td>0.071021</td>\n    </tr>\n    <tr>\n      <th>3</th>\n      <td>4</td>\n      <td>8.652033</td>\n      <td>5.761143</td>\n      <td>0.747417</td>\n      <td>0.521073</td>\n    </tr>\n    <tr>\n      <th>4</th>\n      <td>5</td>\n      <td>6.145099</td>\n      <td>4.611781</td>\n      <td>0.754596</td>\n      <td>0.695649</td>\n    </tr>\n    <tr>\n      <th>5</th>\n      <td>6</td>\n      <td>10.270859</td>\n      <td>4.675511</td>\n      <td>0.572322</td>\n      <td>0.668760</td>\n    </tr>\n    <tr>\n      <th>6</th>\n      <td>7</td>\n      <td>8.608274</td>\n      <td>4.220462</td>\n      <td>0.963656</td>\n      <td>0.717787</td>\n    </tr>\n    <tr>\n      <th>7</th>\n      <td>8</td>\n      <td>7.782774</td>\n      <td>1.842715</td>\n      <td>0.872694</td>\n      <td>0.524569</td>\n    </tr>\n    <tr>\n      <th>8</th>\n      <td>9</td>\n      <td>4.922092</td>\n      <td>1.519269</td>\n      <td>0.153381</td>\n      <td>0.334200</td>\n    </tr>\n    <tr>\n      <th>9</th>\n      <td>10</td>\n      <td>5.724207</td>\n      <td>3.766887</td>\n      <td>0.007762</td>\n      <td>0.114599</td>\n    </tr>\n  </tbody>\n</table>\n</div>"
     },
     "metadata": {},
     "execution_count": 6
    }
   ],
   "source": [
    "move(df, 1)"
   ]
  },
  {
   "cell_type": "code",
   "execution_count": 12,
   "metadata": {},
   "outputs": [],
   "source": [
    "def agent_translate(agent, dt, direction):\n",
    "    return agent[direction] + agent[f'v{direction}']*dt\n",
    "    \n",
    "\n",
    "def move(df, dt):\n",
    "    aux_df = df.copy()\n",
    "\n",
    "    aux_df['x'] = aux_df.apply(agent_translate, **{'dt': 1, 'direction':'x'}, axis=1)\n",
    "    aux_df['y'] = aux_df.apply(agent_translate, **{'dt': 1, 'direction':'y'}, axis=1)\n",
    "\n",
    "    return aux_df"
   ]
  },
  {
   "cell_type": "code",
   "execution_count": 13,
   "metadata": {},
   "outputs": [
    {
     "output_type": "execute_result",
     "data": {
      "text/plain": [
       "   Agent          x         y        vx        vy\n",
       "0      1   4.685399  4.596359  0.969173  0.383325\n",
       "1      2   6.057545  7.085475  0.242808  0.487222\n",
       "2      3   4.402615  8.276796  0.878578  0.071021\n",
       "3      4   8.652033  5.761143  0.747417  0.521073\n",
       "4      5   6.145099  4.611781  0.754596  0.695649\n",
       "5      6  10.270859  4.675511  0.572322  0.668760\n",
       "6      7   8.608274  4.220462  0.963656  0.717787\n",
       "7      8   7.782774  1.842715  0.872694  0.524569\n",
       "8      9   4.922092  1.519269  0.153381  0.334200\n",
       "9     10   5.724207  3.766887  0.007762  0.114599"
      ],
      "text/html": "<div>\n<style scoped>\n    .dataframe tbody tr th:only-of-type {\n        vertical-align: middle;\n    }\n\n    .dataframe tbody tr th {\n        vertical-align: top;\n    }\n\n    .dataframe thead th {\n        text-align: right;\n    }\n</style>\n<table border=\"1\" class=\"dataframe\">\n  <thead>\n    <tr style=\"text-align: right;\">\n      <th></th>\n      <th>Agent</th>\n      <th>x</th>\n      <th>y</th>\n      <th>vx</th>\n      <th>vy</th>\n    </tr>\n  </thead>\n  <tbody>\n    <tr>\n      <th>0</th>\n      <td>1</td>\n      <td>4.685399</td>\n      <td>4.596359</td>\n      <td>0.969173</td>\n      <td>0.383325</td>\n    </tr>\n    <tr>\n      <th>1</th>\n      <td>2</td>\n      <td>6.057545</td>\n      <td>7.085475</td>\n      <td>0.242808</td>\n      <td>0.487222</td>\n    </tr>\n    <tr>\n      <th>2</th>\n      <td>3</td>\n      <td>4.402615</td>\n      <td>8.276796</td>\n      <td>0.878578</td>\n      <td>0.071021</td>\n    </tr>\n    <tr>\n      <th>3</th>\n      <td>4</td>\n      <td>8.652033</td>\n      <td>5.761143</td>\n      <td>0.747417</td>\n      <td>0.521073</td>\n    </tr>\n    <tr>\n      <th>4</th>\n      <td>5</td>\n      <td>6.145099</td>\n      <td>4.611781</td>\n      <td>0.754596</td>\n      <td>0.695649</td>\n    </tr>\n    <tr>\n      <th>5</th>\n      <td>6</td>\n      <td>10.270859</td>\n      <td>4.675511</td>\n      <td>0.572322</td>\n      <td>0.668760</td>\n    </tr>\n    <tr>\n      <th>6</th>\n      <td>7</td>\n      <td>8.608274</td>\n      <td>4.220462</td>\n      <td>0.963656</td>\n      <td>0.717787</td>\n    </tr>\n    <tr>\n      <th>7</th>\n      <td>8</td>\n      <td>7.782774</td>\n      <td>1.842715</td>\n      <td>0.872694</td>\n      <td>0.524569</td>\n    </tr>\n    <tr>\n      <th>8</th>\n      <td>9</td>\n      <td>4.922092</td>\n      <td>1.519269</td>\n      <td>0.153381</td>\n      <td>0.334200</td>\n    </tr>\n    <tr>\n      <th>9</th>\n      <td>10</td>\n      <td>5.724207</td>\n      <td>3.766887</td>\n      <td>0.007762</td>\n      <td>0.114599</td>\n    </tr>\n  </tbody>\n</table>\n</div>"
     },
     "metadata": {},
     "execution_count": 13
    }
   ],
   "source": [
    "move(df, 1)"
   ]
  },
  {
   "source": [
    "Now see this: https://pandas.pydata.org/pandas-docs/stable/reference/api/pandas.DataFrame.pipe.html\n"
   ],
   "cell_type": "markdown",
   "metadata": {}
  },
  {
   "cell_type": "code",
   "execution_count": null,
   "metadata": {},
   "outputs": [],
   "source": []
  }
 ]
}