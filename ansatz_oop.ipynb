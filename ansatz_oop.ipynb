{
 "metadata": {
  "language_info": {
   "codemirror_mode": {
    "name": "ipython",
    "version": 3
   },
   "file_extension": ".py",
   "mimetype": "text/x-python",
   "name": "python",
   "nbconvert_exporter": "python",
   "pygments_lexer": "ipython3",
   "version": "3.7.9-final"
  },
  "orig_nbformat": 2,
  "kernelspec": {
   "name": "python3",
   "display_name": "Python 3",
   "language": "python"
  }
 },
 "nbformat": 4,
 "nbformat_minor": 2,
 "cells": [
  {
   "cell_type": "code",
   "execution_count": 1,
   "metadata": {},
   "outputs": [],
   "source": [
    "import numpy as np\n",
    "import pandas as pd "
   ]
  },
  {
   "cell_type": "code",
   "execution_count": 2,
   "metadata": {},
   "outputs": [
    {
     "output_type": "execute_result",
     "data": {
      "text/plain": [
       "array([0.21898024, 0.39249371, 0.40402556, 0.13618892, 0.91986491,\n",
       "       0.99770595, 0.24619564, 0.82846374, 0.18332671, 0.93544584])"
      ]
     },
     "metadata": {},
     "execution_count": 2
    }
   ],
   "source": [
    "np.random.rand(10)"
   ]
  },
  {
   "cell_type": "code",
   "execution_count": 3,
   "metadata": {},
   "outputs": [
    {
     "output_type": "execute_result",
     "data": {
      "text/plain": [
       "   Agent         x         y        vx        vy\n",
       "0      1  4.371669  7.507621  0.977999  0.133106\n",
       "1      2  7.329287  5.150566  0.452543  0.145910\n",
       "2      3  1.407922  6.480667  0.974648  0.556700\n",
       "3      4  5.426158  1.018754  0.318635  0.077237\n",
       "4      5  2.467660  8.833535  0.754643  0.290631\n",
       "5      6  9.626765  1.522660  0.630735  0.831098\n",
       "6      7  9.469609  3.774313  0.056612  0.741158\n",
       "7      8  3.450148  8.768605  0.148009  0.799979\n",
       "8      9  6.460683  6.961691  0.184195  0.106245\n",
       "9     10  5.370142  6.167374  0.844574  0.775544"
      ],
      "text/html": "<div>\n<style scoped>\n    .dataframe tbody tr th:only-of-type {\n        vertical-align: middle;\n    }\n\n    .dataframe tbody tr th {\n        vertical-align: top;\n    }\n\n    .dataframe thead th {\n        text-align: right;\n    }\n</style>\n<table border=\"1\" class=\"dataframe\">\n  <thead>\n    <tr style=\"text-align: right;\">\n      <th></th>\n      <th>Agent</th>\n      <th>x</th>\n      <th>y</th>\n      <th>vx</th>\n      <th>vy</th>\n    </tr>\n  </thead>\n  <tbody>\n    <tr>\n      <th>0</th>\n      <td>1</td>\n      <td>4.371669</td>\n      <td>7.507621</td>\n      <td>0.977999</td>\n      <td>0.133106</td>\n    </tr>\n    <tr>\n      <th>1</th>\n      <td>2</td>\n      <td>7.329287</td>\n      <td>5.150566</td>\n      <td>0.452543</td>\n      <td>0.145910</td>\n    </tr>\n    <tr>\n      <th>2</th>\n      <td>3</td>\n      <td>1.407922</td>\n      <td>6.480667</td>\n      <td>0.974648</td>\n      <td>0.556700</td>\n    </tr>\n    <tr>\n      <th>3</th>\n      <td>4</td>\n      <td>5.426158</td>\n      <td>1.018754</td>\n      <td>0.318635</td>\n      <td>0.077237</td>\n    </tr>\n    <tr>\n      <th>4</th>\n      <td>5</td>\n      <td>2.467660</td>\n      <td>8.833535</td>\n      <td>0.754643</td>\n      <td>0.290631</td>\n    </tr>\n    <tr>\n      <th>5</th>\n      <td>6</td>\n      <td>9.626765</td>\n      <td>1.522660</td>\n      <td>0.630735</td>\n      <td>0.831098</td>\n    </tr>\n    <tr>\n      <th>6</th>\n      <td>7</td>\n      <td>9.469609</td>\n      <td>3.774313</td>\n      <td>0.056612</td>\n      <td>0.741158</td>\n    </tr>\n    <tr>\n      <th>7</th>\n      <td>8</td>\n      <td>3.450148</td>\n      <td>8.768605</td>\n      <td>0.148009</td>\n      <td>0.799979</td>\n    </tr>\n    <tr>\n      <th>8</th>\n      <td>9</td>\n      <td>6.460683</td>\n      <td>6.961691</td>\n      <td>0.184195</td>\n      <td>0.106245</td>\n    </tr>\n    <tr>\n      <th>9</th>\n      <td>10</td>\n      <td>5.370142</td>\n      <td>6.167374</td>\n      <td>0.844574</td>\n      <td>0.775544</td>\n    </tr>\n  </tbody>\n</table>\n</div>"
     },
     "metadata": {},
     "execution_count": 3
    }
   ],
   "source": [
    "df = pd.DataFrame({\n",
    "    'Agent': [1,2,3,4,5,6,7,8,9,10],\n",
    "    'x': 10 * np.random.rand(10),\n",
    "    'y': 10 * np.random.rand(10),\n",
    "    'vx': np.random.rand(10),\n",
    "    'vy': np.random.rand(10)\n",
    "    })\n",
    "\n",
    "df"
   ]
  },
  {
   "cell_type": "code",
   "execution_count": 4,
   "metadata": {},
   "outputs": [],
   "source": [
    "def move(df, dt):\n",
    "    aux_df = df.copy()\n",
    "\n",
    "    aux_df['x'] = aux_df.apply(lambda row: row['x'] + row['vx']*dt, axis=1)\n",
    "    aux_df['y'] = aux_df.apply(lambda row: row['y'] + row['vy']*dt, axis=1)\n",
    "\n",
    "    return aux_df"
   ]
  },
  {
   "cell_type": "code",
   "execution_count": 5,
   "metadata": {},
   "outputs": [
    {
     "output_type": "execute_result",
     "data": {
      "text/plain": [
       "   Agent          x         y        vx        vy\n",
       "0      1   5.349668  7.640727  0.977999  0.133106\n",
       "1      2   7.781830  5.296476  0.452543  0.145910\n",
       "2      3   2.382569  7.037367  0.974648  0.556700\n",
       "3      4   5.744793  1.095991  0.318635  0.077237\n",
       "4      5   3.222303  9.124166  0.754643  0.290631\n",
       "5      6  10.257500  2.353758  0.630735  0.831098\n",
       "6      7   9.526221  4.515471  0.056612  0.741158\n",
       "7      8   3.598157  9.568584  0.148009  0.799979\n",
       "8      9   6.644878  7.067936  0.184195  0.106245\n",
       "9     10   6.214716  6.942918  0.844574  0.775544"
      ],
      "text/html": "<div>\n<style scoped>\n    .dataframe tbody tr th:only-of-type {\n        vertical-align: middle;\n    }\n\n    .dataframe tbody tr th {\n        vertical-align: top;\n    }\n\n    .dataframe thead th {\n        text-align: right;\n    }\n</style>\n<table border=\"1\" class=\"dataframe\">\n  <thead>\n    <tr style=\"text-align: right;\">\n      <th></th>\n      <th>Agent</th>\n      <th>x</th>\n      <th>y</th>\n      <th>vx</th>\n      <th>vy</th>\n    </tr>\n  </thead>\n  <tbody>\n    <tr>\n      <th>0</th>\n      <td>1</td>\n      <td>5.349668</td>\n      <td>7.640727</td>\n      <td>0.977999</td>\n      <td>0.133106</td>\n    </tr>\n    <tr>\n      <th>1</th>\n      <td>2</td>\n      <td>7.781830</td>\n      <td>5.296476</td>\n      <td>0.452543</td>\n      <td>0.145910</td>\n    </tr>\n    <tr>\n      <th>2</th>\n      <td>3</td>\n      <td>2.382569</td>\n      <td>7.037367</td>\n      <td>0.974648</td>\n      <td>0.556700</td>\n    </tr>\n    <tr>\n      <th>3</th>\n      <td>4</td>\n      <td>5.744793</td>\n      <td>1.095991</td>\n      <td>0.318635</td>\n      <td>0.077237</td>\n    </tr>\n    <tr>\n      <th>4</th>\n      <td>5</td>\n      <td>3.222303</td>\n      <td>9.124166</td>\n      <td>0.754643</td>\n      <td>0.290631</td>\n    </tr>\n    <tr>\n      <th>5</th>\n      <td>6</td>\n      <td>10.257500</td>\n      <td>2.353758</td>\n      <td>0.630735</td>\n      <td>0.831098</td>\n    </tr>\n    <tr>\n      <th>6</th>\n      <td>7</td>\n      <td>9.526221</td>\n      <td>4.515471</td>\n      <td>0.056612</td>\n      <td>0.741158</td>\n    </tr>\n    <tr>\n      <th>7</th>\n      <td>8</td>\n      <td>3.598157</td>\n      <td>9.568584</td>\n      <td>0.148009</td>\n      <td>0.799979</td>\n    </tr>\n    <tr>\n      <th>8</th>\n      <td>9</td>\n      <td>6.644878</td>\n      <td>7.067936</td>\n      <td>0.184195</td>\n      <td>0.106245</td>\n    </tr>\n    <tr>\n      <th>9</th>\n      <td>10</td>\n      <td>6.214716</td>\n      <td>6.942918</td>\n      <td>0.844574</td>\n      <td>0.775544</td>\n    </tr>\n  </tbody>\n</table>\n</div>"
     },
     "metadata": {},
     "execution_count": 5
    }
   ],
   "source": [
    "move(df, 1)"
   ]
  },
  {
   "cell_type": "code",
   "execution_count": 12,
   "metadata": {},
   "outputs": [],
   "source": [
    "def agent_translate(agent, dt, direction):\n",
    "    return agent[direction] + agent[f'v{direction}']*dt\n",
    "    \n",
    "\n",
    "def move(df, dt):\n",
    "    aux_df = df.copy()\n",
    "\n",
    "    aux_df['x'] = aux_df.apply(agent_translate, **{'dt': 1, 'direction':'x'}, axis=1)\n",
    "    aux_df['y'] = aux_df.apply(agent_translate, **{'dt': 1, 'direction':'y'}, axis=1)\n",
    "\n",
    "    return aux_df"
   ]
  },
  {
   "cell_type": "code",
   "execution_count": 13,
   "metadata": {},
   "outputs": [
    {
     "output_type": "execute_result",
     "data": {
      "text/plain": [
       "   Agent          x         y        vx        vy\n",
       "0      1   4.685399  4.596359  0.969173  0.383325\n",
       "1      2   6.057545  7.085475  0.242808  0.487222\n",
       "2      3   4.402615  8.276796  0.878578  0.071021\n",
       "3      4   8.652033  5.761143  0.747417  0.521073\n",
       "4      5   6.145099  4.611781  0.754596  0.695649\n",
       "5      6  10.270859  4.675511  0.572322  0.668760\n",
       "6      7   8.608274  4.220462  0.963656  0.717787\n",
       "7      8   7.782774  1.842715  0.872694  0.524569\n",
       "8      9   4.922092  1.519269  0.153381  0.334200\n",
       "9     10   5.724207  3.766887  0.007762  0.114599"
      ],
      "text/html": "<div>\n<style scoped>\n    .dataframe tbody tr th:only-of-type {\n        vertical-align: middle;\n    }\n\n    .dataframe tbody tr th {\n        vertical-align: top;\n    }\n\n    .dataframe thead th {\n        text-align: right;\n    }\n</style>\n<table border=\"1\" class=\"dataframe\">\n  <thead>\n    <tr style=\"text-align: right;\">\n      <th></th>\n      <th>Agent</th>\n      <th>x</th>\n      <th>y</th>\n      <th>vx</th>\n      <th>vy</th>\n    </tr>\n  </thead>\n  <tbody>\n    <tr>\n      <th>0</th>\n      <td>1</td>\n      <td>4.685399</td>\n      <td>4.596359</td>\n      <td>0.969173</td>\n      <td>0.383325</td>\n    </tr>\n    <tr>\n      <th>1</th>\n      <td>2</td>\n      <td>6.057545</td>\n      <td>7.085475</td>\n      <td>0.242808</td>\n      <td>0.487222</td>\n    </tr>\n    <tr>\n      <th>2</th>\n      <td>3</td>\n      <td>4.402615</td>\n      <td>8.276796</td>\n      <td>0.878578</td>\n      <td>0.071021</td>\n    </tr>\n    <tr>\n      <th>3</th>\n      <td>4</td>\n      <td>8.652033</td>\n      <td>5.761143</td>\n      <td>0.747417</td>\n      <td>0.521073</td>\n    </tr>\n    <tr>\n      <th>4</th>\n      <td>5</td>\n      <td>6.145099</td>\n      <td>4.611781</td>\n      <td>0.754596</td>\n      <td>0.695649</td>\n    </tr>\n    <tr>\n      <th>5</th>\n      <td>6</td>\n      <td>10.270859</td>\n      <td>4.675511</td>\n      <td>0.572322</td>\n      <td>0.668760</td>\n    </tr>\n    <tr>\n      <th>6</th>\n      <td>7</td>\n      <td>8.608274</td>\n      <td>4.220462</td>\n      <td>0.963656</td>\n      <td>0.717787</td>\n    </tr>\n    <tr>\n      <th>7</th>\n      <td>8</td>\n      <td>7.782774</td>\n      <td>1.842715</td>\n      <td>0.872694</td>\n      <td>0.524569</td>\n    </tr>\n    <tr>\n      <th>8</th>\n      <td>9</td>\n      <td>4.922092</td>\n      <td>1.519269</td>\n      <td>0.153381</td>\n      <td>0.334200</td>\n    </tr>\n    <tr>\n      <th>9</th>\n      <td>10</td>\n      <td>5.724207</td>\n      <td>3.766887</td>\n      <td>0.007762</td>\n      <td>0.114599</td>\n    </tr>\n  </tbody>\n</table>\n</div>"
     },
     "metadata": {},
     "execution_count": 13
    }
   ],
   "source": [
    "move(df, 1)"
   ]
  },
  {
   "cell_type": "code",
   "execution_count": null,
   "metadata": {},
   "outputs": [],
   "source": []
  }
 ]
}